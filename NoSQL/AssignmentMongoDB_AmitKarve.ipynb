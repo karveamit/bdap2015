{
 "cells": [
  {
   "cell_type": "markdown",
   "metadata": {},
   "source": [
    "#### (Q1) Write and submit code to load all tweets from the JSON file and store them in your local MongoDB server."
   ]
  },
  {
   "cell_type": "code",
   "execution_count": 1,
   "metadata": {
    "collapsed": false,
    "scrolled": false
   },
   "outputs": [
    {
     "name": "stderr",
     "output_type": "stream",
     "text": [
      "2016-07-10T13:38:25.438+0530\tconnected to: localhost\n",
      "2016-07-10T13:38:28.414+0530\t[........................] testdb.twitter\t26.2 MB/1.3 GB (1.9%)\n",
      "2016-07-10T13:38:31.414+0530\t[........................] testdb.twitter\t56.9 MB/1.3 GB (4.1%)\n",
      "2016-07-10T13:38:34.416+0530\t[#.......................] testdb.twitter\t86.1 MB/1.3 GB (6.3%)\n",
      "2016-07-10T13:38:37.414+0530\t[#.......................] testdb.twitter\t113.5 MB/1.3 GB (8.3%)\n",
      "2016-07-10T13:38:40.415+0530\t[##......................] testdb.twitter\t141.4 MB/1.3 GB (10.3%)\n",
      "2016-07-10T13:38:43.414+0530\t[##......................] testdb.twitter\t168.0 MB/1.3 GB (12.3%)\n",
      "2016-07-10T13:38:46.414+0530\t[###.....................] testdb.twitter\t195.8 MB/1.3 GB (14.3%)\n",
      "2016-07-10T13:38:49.418+0530\t[###.....................] testdb.twitter\t223.3 MB/1.3 GB (16.3%)\n",
      "2016-07-10T13:38:52.422+0530\t[####....................] testdb.twitter\t249.3 MB/1.3 GB (18.2%)\n",
      "2016-07-10T13:38:55.421+0530\t[####....................] testdb.twitter\t263.4 MB/1.3 GB (19.2%)\n",
      "2016-07-10T13:38:58.414+0530\t[#####...................] testdb.twitter\t291.5 MB/1.3 GB (21.3%)\n",
      "2016-07-10T13:39:01.414+0530\t[#####...................] testdb.twitter\t317.4 MB/1.3 GB (23.1%)\n",
      "2016-07-10T13:39:04.414+0530\t[######..................] testdb.twitter\t342.9 MB/1.3 GB (25.0%)\n",
      "2016-07-10T13:39:07.414+0530\t[######..................] testdb.twitter\t370.1 MB/1.3 GB (27.0%)\n",
      "2016-07-10T13:39:10.415+0530\t[######..................] testdb.twitter\t396.7 MB/1.3 GB (28.9%)\n",
      "2016-07-10T13:39:13.414+0530\t[#######.................] testdb.twitter\t427.4 MB/1.3 GB (31.2%)\n",
      "2016-07-10T13:39:16.414+0530\t[#######.................] testdb.twitter\t456.6 MB/1.3 GB (33.3%)\n",
      "2016-07-10T13:39:19.414+0530\t[########................] testdb.twitter\t487.1 MB/1.3 GB (35.5%)\n",
      "2016-07-10T13:39:22.419+0530\t[#########...............] testdb.twitter\t518.1 MB/1.3 GB (37.8%)\n",
      "2016-07-10T13:39:25.414+0530\t[#########...............] testdb.twitter\t548.4 MB/1.3 GB (40.0%)\n",
      "2016-07-10T13:39:28.422+0530\t[##########..............] testdb.twitter\t579.0 MB/1.3 GB (42.2%)\n",
      "2016-07-10T13:39:31.417+0530\t[##########..............] testdb.twitter\t609.7 MB/1.3 GB (44.5%)\n",
      "2016-07-10T13:39:34.422+0530\t[###########.............] testdb.twitter\t636.2 MB/1.3 GB (46.4%)\n",
      "2016-07-10T13:39:37.414+0530\t[###########.............] testdb.twitter\t665.3 MB/1.3 GB (48.5%)\n",
      "2016-07-10T13:39:40.414+0530\t[############............] testdb.twitter\t692.8 MB/1.3 GB (50.5%)\n",
      "2016-07-10T13:39:43.414+0530\t[############............] testdb.twitter\t722.3 MB/1.3 GB (52.7%)\n",
      "2016-07-10T13:39:46.421+0530\t[#############...........] testdb.twitter\t751.9 MB/1.3 GB (54.8%)\n",
      "2016-07-10T13:39:49.417+0530\t[#############...........] testdb.twitter\t780.3 MB/1.3 GB (56.9%)\n",
      "2016-07-10T13:39:52.414+0530\t[##############..........] testdb.twitter\t811.2 MB/1.3 GB (59.2%)\n",
      "2016-07-10T13:39:55.414+0530\t[##############..........] testdb.twitter\t838.8 MB/1.3 GB (61.2%)\n",
      "2016-07-10T13:39:58.414+0530\t[##############..........] testdb.twitter\t849.1 MB/1.3 GB (61.9%)\n",
      "2016-07-10T13:40:01.414+0530\t[###############.........] testdb.twitter\t867.2 MB/1.3 GB (63.2%)\n",
      "2016-07-10T13:40:04.414+0530\t[###############.........] testdb.twitter\t898.6 MB/1.3 GB (65.5%)\n",
      "2016-07-10T13:40:07.414+0530\t[################........] testdb.twitter\t930.1 MB/1.3 GB (67.8%)\n",
      "2016-07-10T13:40:10.419+0530\t[################........] testdb.twitter\t958.7 MB/1.3 GB (69.9%)\n",
      "2016-07-10T13:40:13.414+0530\t[#################.......] testdb.twitter\t989.4 MB/1.3 GB (72.2%)\n",
      "2016-07-10T13:40:16.414+0530\t[#################.......] testdb.twitter\t1019.6 MB/1.3 GB (74.4%)\n",
      "2016-07-10T13:40:19.416+0530\t[##################......] testdb.twitter\t1.0 GB/1.3 GB (76.6%)\n",
      "2016-07-10T13:40:22.416+0530\t[##################......] testdb.twitter\t1.1 GB/1.3 GB (78.6%)\n",
      "2016-07-10T13:40:25.417+0530\t[###################.....] testdb.twitter\t1.1 GB/1.3 GB (80.8%)\n",
      "2016-07-10T13:40:28.414+0530\t[###################.....] testdb.twitter\t1.1 GB/1.3 GB (83.0%)\n",
      "2016-07-10T13:40:31.414+0530\t[####################....] testdb.twitter\t1.1 GB/1.3 GB (85.2%)\n",
      "2016-07-10T13:40:34.415+0530\t[####################....] testdb.twitter\t1.2 GB/1.3 GB (87.3%)\n",
      "2016-07-10T13:40:37.414+0530\t[#####################...] testdb.twitter\t1.2 GB/1.3 GB (89.5%)\n",
      "2016-07-10T13:40:40.414+0530\t[######################..] testdb.twitter\t1.2 GB/1.3 GB (91.7%)\n",
      "2016-07-10T13:40:43.415+0530\t[######################..] testdb.twitter\t1.3 GB/1.3 GB (93.9%)\n",
      "2016-07-10T13:40:46.415+0530\t[#######################.] testdb.twitter\t1.3 GB/1.3 GB (96.2%)\n",
      "2016-07-10T13:40:49.419+0530\t[#######################.] testdb.twitter\t1.3 GB/1.3 GB (98.4%)\n",
      "2016-07-10T13:40:51.508+0530\t[########################] testdb.twitter\t1.3 GB/1.3 GB (100.0%)\n",
      "2016-07-10T13:40:51.508+0530\timported 308930 documents\n"
     ]
    }
   ],
   "source": [
    "%%bash\n",
    "mongoimport --db testdb --type json --collection twitter --file /home/amit/bdap2015/NoSQL/twitter.json"
   ]
  },
  {
   "cell_type": "markdown",
   "metadata": {},
   "source": [
    "#### (Q2) What is the 5th most frequent hashtag in the dataset? Submit along with code. (the answer should be derived using a mongodb query)"
   ]
  },
  {
   "cell_type": "code",
   "execution_count": 94,
   "metadata": {
    "collapsed": false
   },
   "outputs": [
    {
     "name": "stdout",
     "output_type": "stream",
     "text": [
      "MongoDB shell version: 3.2.7\n",
      "connecting to: testdb\n",
      "{ \"_id\" : \"analytics\", \"count\" : 15567 }\n",
      "bye\n"
     ]
    }
   ],
   "source": [
    "%%bash\n",
    "mongo testdb\n",
    "\n",
    "db.twitter.aggregate(\n",
    "    { $project: { \"entities.hashtags\" : 1, _id: 0 }},\n",
    "    { $unwind: \"$entities.hashtags\" },\n",
    "    { $group : { _id: \"$entities.hashtags.text\", count: { $sum : 1 } }},\n",
    "    { $sort : { \"count\" : -1 }},\n",
    "    { $skip : 4 },\n",
    "    { $limit : 1 }\n",
    ")"
   ]
  },
  {
   "cell_type": "markdown",
   "metadata": {},
   "source": [
    "**Note: The results are based on Case sensitive values, need to use reg expression if required."
   ]
  },
  {
   "cell_type": "markdown",
   "metadata": {},
   "source": [
    "#### (Q3) What is the 7th most frequent @-mention in the dataset? Submit along with code. (the answer should be derived using a mongodb query)"
   ]
  },
  {
   "cell_type": "code",
   "execution_count": 142,
   "metadata": {
    "collapsed": false
   },
   "outputs": [
    {
     "name": "stdout",
     "output_type": "stream",
     "text": [
      "MongoDB shell version: 3.2.7\n",
      "connecting to: testdb\n",
      "{ \"_id\" : \"Forbes\", \"count\" : 2711 }\n",
      "bye\n"
     ]
    }
   ],
   "source": [
    "%%bash\n",
    "mongo testdb\n",
    "\n",
    "db.twitter.aggregate(\n",
    "    { $project: { \"entities.user_mentions\" : 1, _id: 0 }},\n",
    "    { $unwind: \"$entities.user_mentions\" },\n",
    "    { $group : { _id: \"$entities.user_mentions.name\", count: { $sum : 1 } }},\n",
    "    { $sort : { \"count\" : -1 }},\n",
    "    { $skip : 6 },\n",
    "    { $limit : 1 }\n",
    ")"
   ]
  },
  {
   "cell_type": "markdown",
   "metadata": {},
   "source": [
    "**Note: The results are based on Case sensitive values, need to use reg expression if required."
   ]
  },
  {
   "cell_type": "markdown",
   "metadata": {},
   "source": [
    "#### (Q4) Which twitter user has 3rd most number of followers? Submit along with code. (the answer should be derived using a mongodb query)"
   ]
  },
  {
   "cell_type": "code",
   "execution_count": 139,
   "metadata": {
    "collapsed": false
   },
   "outputs": [
    {
     "name": "stdout",
     "output_type": "stream",
     "text": [
      "MongoDB shell version: 3.2.7\n",
      "connecting to: testdb\n",
      "{ \"_id\" : { \"name\" : \"@EmiliaKudrina #usa\" }, \"followers_count\" : 40636314 }\n",
      "bye\n"
     ]
    }
   ],
   "source": [
    "%%bash\n",
    "mongo testdb\n",
    "\n",
    "db.twitter.aggregate(\n",
    "  [\n",
    "   { \"$group\": {\"_id\": {\"name\":\"$user.name\"},\n",
    "                followers_count: { $sum: \"$user.followers_count\" }\n",
    "             }\n",
    "   },\n",
    "   { $sort: { followers_count: -1 } },\n",
    "   { $skip : 2 },\n",
    "   { $limit: 1 }  \n",
    "  ]\n",
    ")"
   ]
  },
  {
   "cell_type": "markdown",
   "metadata": {},
   "source": [
    "#### (Q5) Which twitter user's tweets were retweeted 8th most number of times? Submit along with code. (the answer should be derived using a mongodb query)"
   ]
  },
  {
   "cell_type": "code",
   "execution_count": 110,
   "metadata": {
    "collapsed": false
   },
   "outputs": [
    {
     "name": "stdout",
     "output_type": "stream",
     "text": [
      "MongoDB shell version: 3.2.7\n",
      "connecting to: testdb\n",
      "{ \"_id\" : { \"user.name\" : \"Forbes\" }, \"retweet_count\" : 39677 }\n",
      "bye\n"
     ]
    }
   ],
   "source": [
    "%%bash\n",
    "mongo testdb\n",
    "db.twitter.aggregate(\n",
    "  [\n",
    "   { \"$group\": {\"_id\": {\"user.name\":\"$retweeted_status.user.name\"},\n",
    "                retweet_count: { $sum: \"$retweeted_status.retweet_count\" }\n",
    "             }\n",
    "   },\n",
    "   { $sort: { retweet_count: -1 } },\n",
    "   { $skip : 7 },\n",
    "   { $limit: 1 }  \n",
    "  ]\n",
    ")"
   ]
  }
 ],
 "metadata": {
  "kernelspec": {
   "display_name": "Python [Root]",
   "language": "python",
   "name": "Python [Root]"
  },
  "language_info": {
   "codemirror_mode": {
    "name": "ipython",
    "version": 2
   },
   "file_extension": ".py",
   "mimetype": "text/x-python",
   "name": "python",
   "nbconvert_exporter": "python",
   "pygments_lexer": "ipython2",
   "version": "2.7.11"
  }
 },
 "nbformat": 4,
 "nbformat_minor": 0
}
